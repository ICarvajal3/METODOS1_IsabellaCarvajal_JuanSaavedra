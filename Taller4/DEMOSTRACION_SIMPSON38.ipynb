{
 "cells": [
  {
   "cell_type": "code",
   "execution_count": 258,
   "metadata": {},
   "outputs": [],
   "source": [
    "import numpy as np\n",
    "import sympy as sym"
   ]
  },
  {
   "cell_type": "code",
   "execution_count": 259,
   "metadata": {},
   "outputs": [],
   "source": [
    "\n",
    "import numpy as np\n",
    "import sympy as sym\n",
    "\n",
    "def Lagrange(x,xi,j):\n",
    "    \n",
    "    prod = 1.0\n",
    "    n = len(xi)\n",
    "    \n",
    "    for i in range(n):\n",
    "        if i != j:\n",
    "            prod *= (x - xi[i])/(xi[j]-xi[i])\n",
    "    \n",
    "    \n",
    "    return prod\n",
    "\n",
    "def Poly(x,xi,yi):\n",
    "    \n",
    "    Sum = 0.\n",
    "    n = len(xi)\n",
    "    lista = []\n",
    "        \n",
    "    for j in range(n):\n",
    "        Sum = yi[j]*Lagrange(x,xi,j)\n",
    "        lista.append(Sum)\n",
    "    return lista"
   ]
  },
  {
   "cell_type": "code",
   "execution_count": 260,
   "metadata": {},
   "outputs": [],
   "source": [
    "x0 = sym.Symbol('x0')\n",
    "x1 = sym.Symbol('x1')\n",
    "x2 = sym.Symbol('x2')\n",
    "x3 = sym.Symbol('x3')\n",
    "h = sym.Symbol(\"h\")\n",
    "fx0 = sym.Symbol('fx0')\n",
    "fx1 = sym.Symbol('fx1')\n",
    "fx2 = sym.Symbol('fx2')\n",
    "fx3 = sym.Symbol('fx3')\n",
    "n = sym.Symbol(\"n\")\n",
    "X = [x0,x1,x2,x3]\n",
    "Y = [fx0 , fx1 ,fx2 , fx3]\n",
    "x = sym.Symbol('x')\n",
    "f = Poly(x,X,Y)\n"
   ]
  },
  {
   "cell_type": "code",
   "execution_count": 261,
   "metadata": {},
   "outputs": [
    {
     "data": {
      "text/latex": [
       "$\\displaystyle \\frac{1.0 fx_{0} \\left(x - x_{1}\\right) \\left(x - x_{2}\\right) \\left(x - x_{3}\\right)}{\\left(x_{0} - x_{1}\\right) \\left(x_{0} - x_{2}\\right) \\left(x_{0} - x_{3}\\right)}$"
      ],
      "text/plain": [
       "1.0*fx0*(x - x1)*(x - x2)*(x - x3)/((x0 - x1)*(x0 - x2)*(x0 - x3))"
      ]
     },
     "execution_count": 261,
     "metadata": {},
     "output_type": "execute_result"
    }
   ],
   "source": [
    "f[0]"
   ]
  },
  {
   "cell_type": "code",
   "execution_count": 262,
   "metadata": {},
   "outputs": [
    {
     "data": {
      "text/latex": [
       "$\\displaystyle \\frac{1.0 fx_{1} \\left(x - x_{0}\\right) \\left(x - x_{2}\\right) \\left(x - x_{3}\\right)}{\\left(- x_{0} + x_{1}\\right) \\left(x_{1} - x_{2}\\right) \\left(x_{1} - x_{3}\\right)}$"
      ],
      "text/plain": [
       "1.0*fx1*(x - x0)*(x - x2)*(x - x3)/((-x0 + x1)*(x1 - x2)*(x1 - x3))"
      ]
     },
     "execution_count": 262,
     "metadata": {},
     "output_type": "execute_result"
    }
   ],
   "source": [
    "f[1]"
   ]
  },
  {
   "cell_type": "code",
   "execution_count": 263,
   "metadata": {},
   "outputs": [
    {
     "data": {
      "text/latex": [
       "$\\displaystyle \\frac{1.0 fx_{2} \\left(x - x_{0}\\right) \\left(x - x_{1}\\right) \\left(x - x_{3}\\right)}{\\left(- x_{0} + x_{2}\\right) \\left(- x_{1} + x_{2}\\right) \\left(x_{2} - x_{3}\\right)}$"
      ],
      "text/plain": [
       "1.0*fx2*(x - x0)*(x - x1)*(x - x3)/((-x0 + x2)*(-x1 + x2)*(x2 - x3))"
      ]
     },
     "execution_count": 263,
     "metadata": {},
     "output_type": "execute_result"
    }
   ],
   "source": [
    "f[2]"
   ]
  },
  {
   "cell_type": "code",
   "execution_count": 264,
   "metadata": {},
   "outputs": [
    {
     "data": {
      "text/latex": [
       "$\\displaystyle \\frac{1.0 fx_{3} \\left(x - x_{0}\\right) \\left(x - x_{1}\\right) \\left(x - x_{2}\\right)}{\\left(- x_{0} + x_{3}\\right) \\left(- x_{1} + x_{3}\\right) \\left(- x_{2} + x_{3}\\right)}$"
      ],
      "text/plain": [
       "1.0*fx3*(x - x0)*(x - x1)*(x - x2)/((-x0 + x3)*(-x1 + x3)*(-x2 + x3))"
      ]
     },
     "execution_count": 264,
     "metadata": {},
     "output_type": "execute_result"
    }
   ],
   "source": [
    "f[3]"
   ]
  },
  {
   "cell_type": "code",
   "execution_count": 265,
   "metadata": {},
   "outputs": [],
   "source": [
    "#AL TENER EN CUENTA QUE x1-x0 = h , x2-x0 = 2h y que x3-x0 = 3h\n",
    " "
   ]
  },
  {
   "cell_type": "code",
   "execution_count": 266,
   "metadata": {},
   "outputs": [],
   "source": [
    "l0 = fx0*(x - x1)*(x - x2)*(x - x3)/(6*h**3)\n",
    "l1 = fx1*(x - x0)*(x - x2)*(x - x3)/(2*h**3)\n",
    "l2 = fx2*(x - x0)*(x - x1)*(x - x3)/(-2*h**3)\n",
    "l3 = fx3*(x - x0)*(x - x1)*(x - x2)/(-6*h**3)"
   ]
  },
  {
   "cell_type": "code",
   "execution_count": 267,
   "metadata": {},
   "outputs": [
    {
     "data": {
      "text/latex": [
       "$\\displaystyle \\frac{fx_{0} \\left(x - x_{1}\\right) \\left(x - x_{2}\\right) \\left(x - x_{3}\\right)}{6 h^{3}} + \\frac{fx_{1} \\left(x - x_{0}\\right) \\left(x - x_{2}\\right) \\left(x - x_{3}\\right)}{2 h^{3}} - \\frac{fx_{2} \\left(x - x_{0}\\right) \\left(x - x_{1}\\right) \\left(x - x_{3}\\right)}{2 h^{3}} - \\frac{fx_{3} \\left(x - x_{0}\\right) \\left(x - x_{1}\\right) \\left(x - x_{2}\\right)}{6 h^{3}}$"
      ],
      "text/plain": [
       "fx0*(x - x1)*(x - x2)*(x - x3)/(6*h**3) + fx1*(x - x0)*(x - x2)*(x - x3)/(2*h**3) - fx2*(x - x0)*(x - x1)*(x - x3)/(2*h**3) - fx3*(x - x0)*(x - x1)*(x - x2)/(6*h**3)"
      ]
     },
     "execution_count": 267,
     "metadata": {},
     "output_type": "execute_result"
    }
   ],
   "source": [
    "l0 + l1 + l2 + l3"
   ]
  },
  {
   "cell_type": "code",
   "execution_count": 268,
   "metadata": {},
   "outputs": [],
   "source": [
    "#TAMBIEN , SE PUEDE REPRESENTAR X1 = X0 + h , x2 = x0 + 2h y x3 = x0 + 3h . Es decir : Xn = X0 + n*h\n",
    "#CON ESTO , SE DETERMINA QUE : Xn - X0 = n*h , Xn-X1 = n*h - h , Xn-X2 = n*h - 2h  y Xn-X3 = n*h - 3h"
   ]
  },
  {
   "cell_type": "code",
   "execution_count": 269,
   "metadata": {},
   "outputs": [],
   "source": [
    "l0_0 = fx0*(n*h - h)*(n*h - 2*h)*(n*h - 3*h)/(6*h**3)\n",
    "l1_1 = fx1*(n*h)*(n*h - 2*h)*(n*h - 2*h)/(2*h**3)\n",
    "l2_2 = fx2*(n*h)*(n*h - h )*(n*h - 2*h)/(-2*h**3)\n",
    "l3_3 = fx3*(n*h)*(n*h - h)*(n*h - 2*h)/(-6*h**3)"
   ]
  },
  {
   "cell_type": "code",
   "execution_count": 270,
   "metadata": {},
   "outputs": [
    {
     "data": {
      "text/latex": [
       "$\\displaystyle \\frac{fx_{0} \\left(h n - 3 h\\right) \\left(h n - 2 h\\right) \\left(h n - h\\right)}{6 h^{3}} + \\frac{fx_{1} n \\left(h n - 2 h\\right)^{2}}{2 h^{2}} - \\frac{fx_{2} n \\left(h n - 2 h\\right) \\left(h n - h\\right)}{2 h^{2}} - \\frac{fx_{3} n \\left(h n - 2 h\\right) \\left(h n - h\\right)}{6 h^{2}}$"
      ],
      "text/plain": [
       "fx0*(h*n - 3*h)*(h*n - 2*h)*(h*n - h)/(6*h**3) + fx1*n*(h*n - 2*h)**2/(2*h**2) - fx2*n*(h*n - 2*h)*(h*n - h)/(2*h**2) - fx3*n*(h*n - 2*h)*(h*n - h)/(6*h**2)"
      ]
     },
     "execution_count": 270,
     "metadata": {},
     "output_type": "execute_result"
    }
   ],
   "source": [
    " l0_0 + l1_1 + l2_2 + l3_3"
   ]
  },
  {
   "cell_type": "code",
   "execution_count": 271,
   "metadata": {},
   "outputs": [],
   "source": [
    "#INTEGRANDO CADA FUNCION DE LAGRANGE ENTRE X0 Y X3.\n",
    "#PERO X3 = X0 + 3h -> X3 - X0 = 3h ->  (X3 - X0)/h = n = 3\n",
    "#DE ESTE MODO , LA INTEGRAL YA NO IRIA DE X0 HASTA X3 , SINO DE n = 0 A n = 3."
   ]
  },
  {
   "cell_type": "code",
   "execution_count": 272,
   "metadata": {},
   "outputs": [],
   "source": [
    "Int_1 = sym.expand(sym.integrate(l0_0,(n,0,3)))"
   ]
  },
  {
   "cell_type": "code",
   "execution_count": 273,
   "metadata": {},
   "outputs": [
    {
     "data": {
      "text/latex": [
       "$\\displaystyle - \\frac{3 fx_{0}}{8}$"
      ],
      "text/plain": [
       "-3*fx0/8"
      ]
     },
     "execution_count": 273,
     "metadata": {},
     "output_type": "execute_result"
    }
   ],
   "source": [
    "Int_1"
   ]
  },
  {
   "cell_type": "code",
   "execution_count": 274,
   "metadata": {},
   "outputs": [],
   "source": [
    "Int_2 = sym.expand(sym.integrate(l1_1,(n,0,3)))"
   ]
  },
  {
   "cell_type": "code",
   "execution_count": 275,
   "metadata": {},
   "outputs": [
    {
     "data": {
      "text/latex": [
       "$\\displaystyle \\frac{9 fx_{1}}{8}$"
      ],
      "text/plain": [
       "9*fx1/8"
      ]
     },
     "execution_count": 275,
     "metadata": {},
     "output_type": "execute_result"
    }
   ],
   "source": [
    "Int_2"
   ]
  },
  {
   "cell_type": "code",
   "execution_count": 276,
   "metadata": {},
   "outputs": [],
   "source": [
    "Int_3 = -sym.expand(sym.integrate(l2_2,(n,0,3)))"
   ]
  },
  {
   "cell_type": "code",
   "execution_count": 277,
   "metadata": {},
   "outputs": [
    {
     "data": {
      "text/latex": [
       "$\\displaystyle \\frac{9 fx_{2}}{8}$"
      ],
      "text/plain": [
       "9*fx2/8"
      ]
     },
     "execution_count": 277,
     "metadata": {},
     "output_type": "execute_result"
    }
   ],
   "source": [
    "Int_3"
   ]
  },
  {
   "cell_type": "code",
   "execution_count": 278,
   "metadata": {},
   "outputs": [],
   "source": [
    "Int_4 = sym.expand(sym.integrate(l3_3,(n,0,3)))"
   ]
  },
  {
   "cell_type": "code",
   "execution_count": 279,
   "metadata": {},
   "outputs": [
    {
     "data": {
      "text/latex": [
       "$\\displaystyle - \\frac{3 fx_{3}}{8}$"
      ],
      "text/plain": [
       "-3*fx3/8"
      ]
     },
     "execution_count": 279,
     "metadata": {},
     "output_type": "execute_result"
    }
   ],
   "source": [
    "Int_4"
   ]
  },
  {
   "cell_type": "code",
   "execution_count": 280,
   "metadata": {},
   "outputs": [],
   "source": [
    "Int_total = -Int_1*h + Int_2*h + Int_3*h - Int_4*h"
   ]
  },
  {
   "cell_type": "code",
   "execution_count": 281,
   "metadata": {},
   "outputs": [
    {
     "data": {
      "text/latex": [
       "$\\displaystyle \\frac{3 fx_{0} h}{8} + \\frac{9 fx_{1} h}{8} + \\frac{9 fx_{2} h}{8} + \\frac{3 fx_{3} h}{8}$"
      ],
      "text/plain": [
       "3*fx0*h/8 + 9*fx1*h/8 + 9*fx2*h/8 + 3*fx3*h/8"
      ]
     },
     "execution_count": 281,
     "metadata": {},
     "output_type": "execute_result"
    }
   ],
   "source": [
    "Int_total"
   ]
  },
  {
   "cell_type": "code",
   "execution_count": 282,
   "metadata": {},
   "outputs": [],
   "source": [
    "Int_total2 = -Int_1 + Int_2 + Int_3- Int_4"
   ]
  },
  {
   "cell_type": "code",
   "execution_count": 283,
   "metadata": {},
   "outputs": [],
   "source": [
    "#SACANDO FACTOR COMUN : "
   ]
  },
  {
   "cell_type": "code",
   "execution_count": 284,
   "metadata": {},
   "outputs": [],
   "source": [
    "Simpson38 = ((Int_total2)*(8/3))"
   ]
  },
  {
   "cell_type": "code",
   "execution_count": 285,
   "metadata": {},
   "outputs": [
    {
     "data": {
      "text/latex": [
       "$\\displaystyle 1.0 fx_{0} + 3.0 fx_{1} + 3.0 fx_{2} + 1.0 fx_{3}$"
      ],
      "text/plain": [
       "1.0*fx0 + 3.0*fx1 + 3.0*fx2 + 1.0*fx3"
      ]
     },
     "execution_count": 285,
     "metadata": {},
     "output_type": "execute_result"
    }
   ],
   "source": [
    "Simpson38 "
   ]
  },
  {
   "cell_type": "code",
   "execution_count": 286,
   "metadata": {},
   "outputs": [],
   "source": [
    "Final = Simpson38*(3*h/8)"
   ]
  },
  {
   "cell_type": "code",
   "execution_count": 287,
   "metadata": {},
   "outputs": [
    {
     "data": {
      "text/latex": [
       "$\\displaystyle \\frac{3 h \\left(1.0 fx_{0} + 3.0 fx_{1} + 3.0 fx_{2} + 1.0 fx_{3}\\right)}{8}$"
      ],
      "text/plain": [
       "3*h*(1.0*fx0 + 3.0*fx1 + 3.0*fx2 + 1.0*fx3)/8"
      ]
     },
     "execution_count": 287,
     "metadata": {},
     "output_type": "execute_result"
    }
   ],
   "source": [
    "Final"
   ]
  }
 ],
 "metadata": {
  "kernelspec": {
   "display_name": "Python 3",
   "language": "python",
   "name": "python3"
  },
  "language_info": {
   "codemirror_mode": {
    "name": "ipython",
    "version": 3
   },
   "file_extension": ".py",
   "mimetype": "text/x-python",
   "name": "python",
   "nbconvert_exporter": "python",
   "pygments_lexer": "ipython3",
   "version": "3.8.3"
  }
 },
 "nbformat": 4,
 "nbformat_minor": 4
}
