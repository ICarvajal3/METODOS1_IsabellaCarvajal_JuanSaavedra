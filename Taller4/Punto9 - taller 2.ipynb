{
 "cells": [
  {
   "cell_type": "code",
   "execution_count": 1,
   "metadata": {},
   "outputs": [],
   "source": [
    "import numpy as np\n",
    "import sympy as sym"
   ]
  },
  {
   "cell_type": "markdown",
   "metadata": {},
   "source": [
    "$$ El\\ error\\ asociado\\ a\\ la\\ regla\\ de\\ Simpson\\ 3/8\\ es :$$"
   ]
  },
  {
   "cell_type": "markdown",
   "metadata": {},
   "source": [
    "$$E = \\frac{f^{(4)}(\\xi)}{4!} \\int_a^b (x-x_{0})(x-x_{1})(x-x_{2})(x-x_{3}) \\, dx = \\frac{-3}{80} h^{5}f^{(4)}(\\xi)  \\\\ (1)$$"
   ]
  },
  {
   "cell_type": "markdown",
   "metadata": {},
   "source": [
    "$$ Para\\ demostrarlo\\ se\\ usa\\ la\\ sigiente\\ integral : $$"
   ]
  },
  {
   "cell_type": "markdown",
   "metadata": {},
   "source": [
    "$$I = \\int_{0}^{3h} (x)(x-h)(x-2h)(x-3h) \\, dx $$"
   ]
  },
  {
   "cell_type": "code",
   "execution_count": 2,
   "metadata": {},
   "outputs": [],
   "source": [
    "x = sym.Symbol('x')\n",
    "h = sym.Symbol('h')\n",
    "\n",
    "ecuacion = (x)*(x-h)*(x-2*h)*(x-3*h)\n",
    "integral = sym.integrate(ecuacion , x)\n"
   ]
  },
  {
   "cell_type": "code",
   "execution_count": 3,
   "metadata": {},
   "outputs": [
    {
     "data": {
      "text/latex": [
       "$\\displaystyle - 3 h^{3} x^{2} + \\frac{11 h^{2} x^{3}}{3} - \\frac{3 h x^{4}}{2} + \\frac{x^{5}}{5}$"
      ],
      "text/plain": [
       "-3*h**3*x**2 + 11*h**2*x**3/3 - 3*h*x**4/2 + x**5/5"
      ]
     },
     "execution_count": 3,
     "metadata": {},
     "output_type": "execute_result"
    }
   ],
   "source": [
    "integral"
   ]
  },
  {
   "cell_type": "code",
   "execution_count": 4,
   "metadata": {},
   "outputs": [],
   "source": [
    "integral2 = sym.integrate(ecuacion , (x,0,3*h))"
   ]
  },
  {
   "cell_type": "code",
   "execution_count": 5,
   "metadata": {},
   "outputs": [
    {
     "data": {
      "text/latex": [
       "$\\displaystyle - \\frac{9 h^{5}}{10}$"
      ],
      "text/plain": [
       "-9*h**5/10"
      ]
     },
     "execution_count": 5,
     "metadata": {},
     "output_type": "execute_result"
    }
   ],
   "source": [
    "integral2"
   ]
  },
  {
   "cell_type": "markdown",
   "metadata": {},
   "source": [
    "$$ Ya\\ que\\ tenemos\\ el\\ valor\\ de :  \\int_a^b (x-x_{0})(x-x_{1})(x-x_{2})(x-x_{3}) \\, dx\\\\ reemplazamos\\ en\\ la\\ ecuación\\ (1) $$"
   ]
  },
  {
   "cell_type": "markdown",
   "metadata": {},
   "source": [
    "$$Se\\ tiene\\ que\\ E = \\frac{f^{(4)}(\\xi)}{4!} \\frac{-9h^{5}}{10} = \\frac{-3}{80} h^{5}f^{(4)}(\\xi)$$"
   ]
  },
  {
   "cell_type": "markdown",
   "metadata": {},
   "source": [
    "$$ Lo\\ cual\\ es\\ correcto\\ y\\ podemos\\ afirmar\\ que\\ el\\ error\\ asociado\\ a\\ la\\ regla\\ de\\ Simpson\\ 3/8\\ esta\\ dado\\ por\\ la\\ ecuación\\ (1)$$"
   ]
  }
 ],
 "metadata": {
  "kernelspec": {
   "display_name": "Python 3",
   "language": "python",
   "name": "python3"
  },
  "language_info": {
   "codemirror_mode": {
    "name": "ipython",
    "version": 3
   },
   "file_extension": ".py",
   "mimetype": "text/x-python",
   "name": "python",
   "nbconvert_exporter": "python",
   "pygments_lexer": "ipython3",
   "version": "3.8.5"
  }
 },
 "nbformat": 4,
 "nbformat_minor": 4
}
