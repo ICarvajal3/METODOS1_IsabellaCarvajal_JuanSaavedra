{
 "cells": [
  {
   "cell_type": "code",
   "execution_count": 1,
   "metadata": {},
   "outputs": [],
   "source": [
    "\n",
    "import numpy as np\n",
    "import sympy as sym\n"
   ]
  },
  {
   "cell_type": "markdown",
   "metadata": {},
   "source": [
    "$$ Tenemos : E(x) = \\int_a^b f''(\\varphi)(x-a)(x-b)(x-(a+b)/2) \\, dx $$"
   ]
  },
  {
   "cell_type": "markdown",
   "metadata": {},
   "source": [
    "<p> pero es lo mismo que <p>"
   ]
  },
  {
   "cell_type": "markdown",
   "metadata": {},
   "source": [
    "$$  E(x) = f''(\\varphi)* \\int_a^b (x-a)(x-b)(x-(a+b)/2) \\, dx $$"
   ]
  },
  {
   "cell_type": "markdown",
   "metadata": {},
   "source": [
    "<p> Por lo que solo debemos integrar lo que esta dentro de la integral , es decir: <p>"
   ]
  },
  {
   "cell_type": "markdown",
   "metadata": {},
   "source": [
    "$$  \\int_a^b (x-a)(x-b)(x-(a+b)/2) \\, dx $$"
   ]
  },
  {
   "cell_type": "code",
   "execution_count": 2,
   "metadata": {},
   "outputs": [],
   "source": [
    "x = sym.Symbol('x')\n",
    "a = sym.Symbol('a')\n",
    "b = sym.Symbol('b')\n",
    "\n",
    "ecuacion = (x-a)*(x-b)*(x-(a+b)/2)\n",
    "integral = sym.integrate(ecuacion , x)\n"
   ]
  },
  {
   "cell_type": "code",
   "execution_count": 3,
   "metadata": {},
   "outputs": [
    {
     "data": {
      "text/latex": [
       "$\\displaystyle \\frac{x^{4}}{4} + x^{3} \\left(- \\frac{a}{2} - \\frac{b}{2}\\right) + x^{2} \\left(\\frac{a^{2}}{4} + a b + \\frac{b^{2}}{4}\\right) + x \\left(- \\frac{a^{2} b}{2} - \\frac{a b^{2}}{2}\\right)$"
      ],
      "text/plain": [
       "x**4/4 + x**3*(-a/2 - b/2) + x**2*(a**2/4 + a*b + b**2/4) + x*(-a**2*b/2 - a*b**2/2)"
      ]
     },
     "execution_count": 3,
     "metadata": {},
     "output_type": "execute_result"
    }
   ],
   "source": [
    "integral"
   ]
  },
  {
   "cell_type": "markdown",
   "metadata": {},
   "source": [
    "<p> Evaluando la integral entre a y b <p>"
   ]
  },
  {
   "cell_type": "code",
   "execution_count": 4,
   "metadata": {},
   "outputs": [],
   "source": [
    "integral2 = sym.integrate(ecuacion , (x,a,b))"
   ]
  },
  {
   "cell_type": "code",
   "execution_count": 5,
   "metadata": {},
   "outputs": [
    {
     "data": {
      "text/latex": [
       "$\\displaystyle - \\frac{a^{4}}{4} - a^{3} \\left(- \\frac{a}{2} - \\frac{b}{2}\\right) - a^{2} \\left(\\frac{a^{2}}{4} + a b + \\frac{b^{2}}{4}\\right) - a \\left(- \\frac{a^{2} b}{2} - \\frac{a b^{2}}{2}\\right) + \\frac{b^{4}}{4} + b^{3} \\left(- \\frac{a}{2} - \\frac{b}{2}\\right) + b^{2} \\left(\\frac{a^{2}}{4} + a b + \\frac{b^{2}}{4}\\right) + b \\left(- \\frac{a^{2} b}{2} - \\frac{a b^{2}}{2}\\right)$"
      ],
      "text/plain": [
       "-a**4/4 - a**3*(-a/2 - b/2) - a**2*(a**2/4 + a*b + b**2/4) - a*(-a**2*b/2 - a*b**2/2) + b**4/4 + b**3*(-a/2 - b/2) + b**2*(a**2/4 + a*b + b**2/4) + b*(-a**2*b/2 - a*b**2/2)"
      ]
     },
     "execution_count": 5,
     "metadata": {},
     "output_type": "execute_result"
    }
   ],
   "source": [
    "integral2"
   ]
  },
  {
   "cell_type": "markdown",
   "metadata": {},
   "source": [
    "<p> Expandiendo la ecuación <p>"
   ]
  },
  {
   "cell_type": "code",
   "execution_count": 6,
   "metadata": {},
   "outputs": [
    {
     "data": {
      "text/latex": [
       "$\\displaystyle 0$"
      ],
      "text/plain": [
       "0"
      ]
     },
     "execution_count": 6,
     "metadata": {},
     "output_type": "execute_result"
    }
   ],
   "source": [
    "sym.expand(integral2)"
   ]
  },
  {
   "cell_type": "markdown",
   "metadata": {},
   "source": [
    "<p>como el error esta catalogado como una funcion de X en donde: $$f''(\\varphi) = cte $$\n",
    "entonces una constante multiplicada por 0 es siempre 0. <p>"
   ]
  },
  {
   "cell_type": "markdown",
   "metadata": {},
   "source": [
    "$$\\int_a^b f''(\\varphi)(x-a)(x-b)(x-(a+b)/2) \\, dx = 0$$\n"
   ]
  },
  {
   "cell_type": "code",
   "execution_count": null,
   "metadata": {},
   "outputs": [],
   "source": []
  }
 ],
 "metadata": {
  "kernelspec": {
   "display_name": "Python 3",
   "language": "python",
   "name": "python3"
  },
  "language_info": {
   "codemirror_mode": {
    "name": "ipython",
    "version": 3
   },
   "file_extension": ".py",
   "mimetype": "text/x-python",
   "name": "python",
   "nbconvert_exporter": "python",
   "pygments_lexer": "ipython3",
   "version": "3.8.5"
  }
 },
 "nbformat": 4,
 "nbformat_minor": 4
}
