{
 "cells": [
  {
   "cell_type": "code",
   "execution_count": 153,
   "metadata": {},
   "outputs": [],
   "source": [
    "import numpy as np\n",
    "import matplotlib.pyplot as plt"
   ]
  },
  {
   "cell_type": "code",
   "execution_count": 154,
   "metadata": {},
   "outputs": [],
   "source": [
    "b = np.array([[-3],[-3],[8],[9]])\n",
    "u1 = [3,1,0,1]\n",
    "u2 = [1,2,1,1]\n",
    "u3 = [-1,0,2,-1]"
   ]
  },
  {
   "cell_type": "code",
   "execution_count": 155,
   "metadata": {},
   "outputs": [
    {
     "data": {
      "text/plain": [
       "array([[ 3,  1, -1],\n",
       "       [ 1,  2,  0],\n",
       "       [ 0,  1,  2],\n",
       "       [ 1,  1, -1]])"
      ]
     },
     "execution_count": 155,
     "metadata": {},
     "output_type": "execute_result"
    }
   ],
   "source": [
    "Atrans = np.array([u1,u2,u3])\n",
    "A= Atrans.T\n",
    "A\n"
   ]
  },
  {
   "cell_type": "code",
   "execution_count": 156,
   "metadata": {
    "scrolled": true
   },
   "outputs": [
    {
     "data": {
      "text/plain": [
       "array([[-1.],\n",
       "       [ 2.],\n",
       "       [ 1.]])"
      ]
     },
     "execution_count": 156,
     "metadata": {},
     "output_type": "execute_result"
    }
   ],
   "source": [
    "prod1= np.dot(Atrans,A)\n",
    "prod2= Atrans@b\n",
    "x= np.linalg.solve(prod1,prod2)\n",
    "x"
   ]
  },
  {
   "cell_type": "code",
   "execution_count": 157,
   "metadata": {},
   "outputs": [
    {
     "data": {
      "text/plain": [
       "array([[-2.0000000e+00],\n",
       "       [ 3.0000000e+00],\n",
       "       [ 4.0000000e+00],\n",
       "       [-4.4408921e-16]])"
      ]
     },
     "execution_count": 157,
     "metadata": {},
     "output_type": "execute_result"
    }
   ],
   "source": [
    "pw = A@x\n",
    "pw"
   ]
  },
  {
   "cell_type": "code",
   "execution_count": 158,
   "metadata": {},
   "outputs": [],
   "source": [
    "b_ = np.array([-3,-3,8,9])\n",
    "v1 = np.array([3,1,0,1])\n",
    "v2 = np.array([1,2,1,1])\n",
    "v3 = np.array([-1,0,2,-1])"
   ]
  },
  {
   "cell_type": "code",
   "execution_count": 159,
   "metadata": {},
   "outputs": [
    {
     "data": {
      "text/plain": [
       "0.0"
      ]
     },
     "execution_count": 159,
     "metadata": {},
     "output_type": "execute_result"
    }
   ],
   "source": [
    "u1= v1\n",
    "u2= v2 - (np.dot(v2,u1)/np.dot(u1,u1))*u1\n",
    "u3= v3 - (np.dot(v3,u2)/np.dot(u2,u2))*u2 - (np.dot(v3,u1)/np.dot(u1,u1))*u1\n",
    "\n",
    "u=np.dot(u3,u2)\n",
    "u"
   ]
  },
  {
   "cell_type": "code",
   "execution_count": 160,
   "metadata": {},
   "outputs": [],
   "source": [
    "nor1= np.linalg.norm(u1)\n",
    "nor2= np.linalg.norm(u2)\n",
    "nor3= np.linalg.norm(u3)"
   ]
  },
  {
   "cell_type": "code",
   "execution_count": 161,
   "metadata": {},
   "outputs": [],
   "source": [
    "n1 = u1/nor1\n",
    "n2 = u2/nor2\n",
    "n3 = u3/nor3"
   ]
  },
  {
   "cell_type": "code",
   "execution_count": 162,
   "metadata": {},
   "outputs": [
    {
     "name": "stdout",
     "output_type": "stream",
     "text": [
      "[0.90453403 0.30151134 0.         0.30151134] [-0.32961713  0.75341057  0.51796977  0.2354408 ] [ 0.25633581 -0.26982716  0.78249877 -0.49918025]\n"
     ]
    }
   ],
   "source": [
    "print(n1,n2,n3)"
   ]
  },
  {
   "cell_type": "code",
   "execution_count": 163,
   "metadata": {},
   "outputs": [],
   "source": [
    "c1 = np.dot(b_,n1)\n",
    "c2 = np.dot(b_,n2)\n",
    "c3 = np.dot(b_,n3)"
   ]
  },
  {
   "cell_type": "code",
   "execution_count": 164,
   "metadata": {},
   "outputs": [
    {
     "data": {
      "text/plain": [
       "array([-2.00000000e+00,  3.00000000e+00,  4.00000000e+00, -1.11022302e-16])"
      ]
     },
     "execution_count": 164,
     "metadata": {},
     "output_type": "execute_result"
    }
   ],
   "source": [
    "pw2= c1*n1 + c2*n2 + c3*n3\n",
    "pw2"
   ]
  }
 ],
 "metadata": {
  "kernelspec": {
   "display_name": "Python 3",
   "language": "python",
   "name": "python3"
  },
  "language_info": {
   "codemirror_mode": {
    "name": "ipython",
    "version": 3
   },
   "file_extension": ".py",
   "mimetype": "text/x-python",
   "name": "python",
   "nbconvert_exporter": "python",
   "pygments_lexer": "ipython3",
   "version": "3.8.5"
  }
 },
 "nbformat": 4,
 "nbformat_minor": 4
}
