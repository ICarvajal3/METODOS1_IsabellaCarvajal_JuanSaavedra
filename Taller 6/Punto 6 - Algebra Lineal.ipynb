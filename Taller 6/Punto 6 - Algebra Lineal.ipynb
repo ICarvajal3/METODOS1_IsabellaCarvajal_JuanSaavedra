{
 "cells": [
  {
   "cell_type": "code",
   "execution_count": 7,
   "metadata": {},
   "outputs": [],
   "source": [
    "import numpy as np\n",
    "import matplotlib.pyplot as plt\n",
    "from IPython.display import clear_output\n",
    "import time"
   ]
  },
  {
   "cell_type": "code",
   "execution_count": 14,
   "metadata": {},
   "outputs": [],
   "source": [
    "G=(lambda x,y: np.log(x**2+y**2)-np.sin(x*y)+np.log(2)+np.log(np.pi), \\\n",
    "   lambda x,y: np.exp(x-y) + np.cos(x*y) )"
   ]
  },
  {
   "cell_type": "code",
   "execution_count": 36,
   "metadata": {},
   "outputs": [],
   "source": [
    "G1=(lambda x,y,z: 6*x-2*np.cos(y*z)-1, \\\n",
    "   lambda x,y,z: 9*y+np.sqrt(x**2+np.sin(z)+1.06)+0.9, \\\n",
    "   lambda x,y,z: 60*z+3*np.exp(-x*y)+10*np.pi-3 )"
   ]
  },
  {
   "cell_type": "code",
   "execution_count": 29,
   "metadata": {},
   "outputs": [],
   "source": [
    "def vector(G,r):\n",
    "    dim= len(G)\n",
    "    v= np.zeros(dim)\n",
    "    if dim == 2:\n",
    "        for i in range(dim):\n",
    "            v[i] =G[i](r[0], r[1])\n",
    "    else:\n",
    "        for i in range(dim):\n",
    "            v[i] = G[i](r[0],r[1],r[2])\n",
    "    return v"
   ]
  },
  {
   "cell_type": "code",
   "execution_count": 34,
   "metadata": {},
   "outputs": [],
   "source": [
    "def jacobiano(G,r,h=1e-6):\n",
    "    \n",
    "    dim=len(G)\n",
    "    j=np.zeros((dim,dim))\n",
    "    if dim == 2:\n",
    "        for i in range(dim):\n",
    "            j[i,0]= ( G[i](r[0]+h, r[1]) - G[i](r[0]-h, r[1]))/(2*h)\n",
    "            j[i,1]= ( G[i](r[0], r[1]+h) - G[i](r[0], r[1]-h))/(2*h) \n",
    "    else: \n",
    "        for i in range(dim):\n",
    "            j[i,0] = ( G[i](r[0]+h,r[1],r[2]) - G[i](r[0]-h,r[1],r[2]) )/(2*h)\n",
    "            j[i,1] = ( G[i](r[0],r[1]+h,r[2]) - G[i](r[0],r[1]-h,r[2]) )/(2*h)\n",
    "            j[i,2] = ( G[i](r[0],r[1],r[2]+h) - G[i](r[0],r[1],r[2]-h) )/(2*h)\n",
    "        \n",
    "    return j.T"
   ]
  },
  {
   "cell_type": "code",
   "execution_count": 20,
   "metadata": {},
   "outputs": [],
   "source": [
    "def metric(G,r):\n",
    "    V= vector(G,r)\n",
    "    \n",
    "    return 0.5*np.linalg.norm(V)**2"
   ]
  },
  {
   "cell_type": "code",
   "execution_count": 22,
   "metadata": {},
   "outputs": [],
   "source": [
    "def solve(G,r,lr=1e-4,epochs=int(1e5),error=1e-7):\n",
    "    \n",
    "    d= 1\n",
    "    it=0\n",
    "    Vector_f =np.array([])\n",
    "    R_vector = np.array(r)\n",
    "    \n",
    "    while d > error and it < epochs:\n",
    "        \n",
    "        currentf= metric(G,r)\n",
    "        J= jacobiano(G,r)\n",
    "        Gvector= vector(G,r)\n",
    "        \n",
    "        r -= lr*np.dot(J,Gvector)\n",
    "        R_vector = np.vstack((R_vector,r))\n",
    "        Newf = metric(G,r)\n",
    "        Vector_f = np.append(Vector_f, Newf)\n",
    "        d= np.abs(currentf-Newf)/Newf\n",
    "        \n",
    "        if it%500 == 0:\n",
    "            print(it,d)\n",
    "            clear_output(wait=True)\n",
    "            time.sleep(0.02)\n",
    "            \n",
    "        it += 1\n",
    "        \n",
    "    if d < error:\n",
    "        print(' Entrenamiento completo ', d, 'iteraciones', it)\n",
    "        \n",
    "    if it == epochs:\n",
    "        print(' Entrenamiento no completado ')\n",
    "        \n",
    "    return r,it,Vector_f,R_vector\n",
    "        \n",
    "        "
   ]
  },
  {
   "cell_type": "code",
   "execution_count": 39,
   "metadata": {},
   "outputs": [
    {
     "name": "stdout",
     "output_type": "stream",
     "text": [
      " Entrenamiento completo  9.992162967243859e-08 iteraciones 8984\n"
     ]
    },
    {
     "data": {
      "text/plain": [
       "array([0.96075834, 1.37958553])"
      ]
     },
     "execution_count": 39,
     "metadata": {},
     "output_type": "execute_result"
    }
   ],
   "source": [
    "x,it,F,R = solve(G,[2,2])\n",
    "x"
   ]
  },
  {
   "cell_type": "code",
   "execution_count": 40,
   "metadata": {},
   "outputs": [
    {
     "name": "stdout",
     "output_type": "stream",
     "text": [
      " Entrenamiento completo  0.0 iteraciones 8536\n"
     ]
    },
    {
     "data": {
      "text/plain": [
       "array([ 0.49814468, -0.1996059 , -0.52882598])"
      ]
     },
     "execution_count": 40,
     "metadata": {},
     "output_type": "execute_result"
    }
   ],
   "source": [
    "x1,it1,F1,R1 = solve(G1,[0,0,0])\n",
    "x1"
   ]
  },
  {
   "cell_type": "code",
   "execution_count": 27,
   "metadata": {},
   "outputs": [
    {
     "data": {
      "image/png": "[encoded data removed]",
      "text/plain": [
       "<Figure size 432x288 with 1 Axes>"
      ]
     },
     "metadata": {
      "needs_background": "light"
     },
     "output_type": "display_data"
    }
   ],
   "source": [
    "plt.plot(F)\n",
    "plt.yscale(\"log\")\n",
    "plt.xscale(\"log\")"
   ]
  },
  {
   "cell_type": "code",
   "execution_count": 38,
   "metadata": {},
   "outputs": [
    {
     "data": {
      "image/png": "[encoded data removed]",
      "text/plain": [
       "<Figure size 432x288 with 1 Axes>"
      ]
     },
     "metadata": {
      "needs_background": "light"
     },
     "output_type": "display_data"
    }
   ],
   "source": [
    "plt.plot(F1)\n",
    "plt.yscale(\"log\")\n",
    "plt.xscale(\"log\")"
   ]
  }
 ],
 "metadata": {
  "kernelspec": {
   "display_name": "Python 3",
   "language": "python",
   "name": "python3"
  },
  "language_info": {
   "codemirror_mode": {
    "name": "ipython",
    "version": 3
   },
   "file_extension": ".py",
   "mimetype": "text/x-python",
   "name": "python",
   "nbconvert_exporter": "python",
   "pygments_lexer": "ipython3",
   "version": "3.8.5"
  }
 },
 "nbformat": 4,
 "nbformat_minor": 4
}
