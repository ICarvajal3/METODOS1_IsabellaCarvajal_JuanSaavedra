{
 "cells": [
  {
   "cell_type": "code",
   "execution_count": 4,
   "metadata": {},
   "outputs": [],
   "source": [
    "import numpy as np\n",
    "import matplotlib.pyplot as plt\n",
    "from scipy import integrate"
   ]
  },
  {
   "cell_type": "code",
   "execution_count": 44,
   "metadata": {},
   "outputs": [],
   "source": [
    "class Solucionar:\n",
    "    \n",
    "    def __init__(self, A, b):\n",
    "        \n",
    "        self.A = A\n",
    "        self.b = b\n",
    "        \n",
    "    def Jacobi(self):\n",
    "        itmax=100\n",
    "        error = 1e-10\n",
    "        M,N = self.A.shape\n",
    "        x = np.zeros(N)    \n",
    "        it = 0\n",
    "    \n",
    "        residuo = np.linalg.norm(b - np.dot(self.A,x))\n",
    "    \n",
    "        while ( residuo > error and it < itmax ):\n",
    "        \n",
    "            it += 1\n",
    "        \n",
    "            for i in range(M):\n",
    "                sum_ = 0\n",
    "                for j in range(N):\n",
    "                    if i != j:\n",
    "                        sum_ += self.A[i][j]*x[j]\n",
    "                x[i] = (self.b[i] - sum_)/self.A[i,i]\n",
    "            residuo = np.linalg.norm( self.b - np.dot(self.A,x) )\n",
    "\n",
    "        return x, \"El número de iteraciones es:\", it\n",
    "    \n",
    "    def GaussSeidel(self):\n",
    "        \n",
    "        M,N = self.A.shape   \n",
    "        x = np.zeros(N)\n",
    "        it=0\n",
    "\n",
    "        for j in range(0, N):    \n",
    "            it+=1\n",
    "            d = self.b[j]                  \n",
    "\n",
    "            for i in range(0, N):     \n",
    "                if(j != i):\n",
    "                    d-=self.A[j][i] * x[i]     \n",
    "            x[j] = d / self.A[j][j]\n",
    "            \n",
    "        return x, \"el número de iteraciones es:\",it\n",
    "        "
   ]
  },
  {
   "cell_type": "code",
   "execution_count": 45,
   "metadata": {},
   "outputs": [],
   "source": [
    "M = np.array([[4,-1,-1,0],[-1.,4.,0.,-1.],[-1,0,4,-1],[10,-1,-1,4]])\n",
    "b = np.array([150.,80.,160.,90.])"
   ]
  },
  {
   "cell_type": "code",
   "execution_count": 46,
   "metadata": {},
   "outputs": [],
   "source": [
    "e = Solucionar(M,b)"
   ]
  },
  {
   "cell_type": "code",
   "execution_count": 47,
   "metadata": {},
   "outputs": [
    {
     "data": {
      "text/plain": [
       "(array([ 47.64705882,  10.29411765,  30.29411765, -86.47058824]),\n",
       " 'El número de iteraciones es:',\n",
       " 49)"
      ]
     },
     "execution_count": 47,
     "metadata": {},
     "output_type": "execute_result"
    }
   ],
   "source": [
    "e.Jacobi()"
   ]
  },
  {
   "cell_type": "code",
   "execution_count": 48,
   "metadata": {},
   "outputs": [
    {
     "data": {
      "text/plain": [
       "(array([ 37.5   ,  29.375 ,  49.375 , -51.5625]),\n",
       " 'el número de iteraciones es:',\n",
       " 4)"
      ]
     },
     "execution_count": 48,
     "metadata": {},
     "output_type": "execute_result"
    }
   ],
   "source": [
    "e.GaussSeidel()"
   ]
  },
  {
   "cell_type": "code",
   "execution_count": null,
   "metadata": {},
   "outputs": [],
   "source": []
  }
 ],
 "metadata": {
  "kernelspec": {
   "display_name": "Python 3",
   "language": "python",
   "name": "python3"
  },
  "language_info": {
   "codemirror_mode": {
    "name": "ipython",
    "version": 3
   },
   "file_extension": ".py",
   "mimetype": "text/x-python",
   "name": "python",
   "nbconvert_exporter": "python",
   "pygments_lexer": "ipython3",
   "version": "3.8.5"
  }
 },
 "nbformat": 4,
 "nbformat_minor": 4
}
