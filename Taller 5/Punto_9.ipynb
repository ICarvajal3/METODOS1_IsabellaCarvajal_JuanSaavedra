{
 "cells": [
  {
   "cell_type": "code",
   "execution_count": 20,
   "metadata": {},
   "outputs": [],
   "source": [
    "import matplotlib.pyplot as plt\n",
    "import numpy as np"
   ]
  },
  {
   "cell_type": "markdown",
   "metadata": {},
   "source": [
    "$$  I = \\int_{0}^{1} \\cdots \\int_{0}^{1} 2^{-7} \\left(\\sum_{i=1}^{8}x_{i}\\right)^2 dx_1 dx_2 \\ldots dx_8 = \\frac{25}{192}$$"
   ]
  },
  {
   "cell_type": "code",
   "execution_count": 44,
   "metadata": {},
   "outputs": [],
   "source": [
    "M= 100000"
   ]
  },
  {
   "cell_type": "code",
   "execution_count": 45,
   "metadata": {},
   "outputs": [],
   "source": [
    "def funcion():\n",
    "    suma=0\n",
    "    for i in range(8):\n",
    "        x= np.random.uniform()\n",
    "        suma += x\n",
    "        \n",
    "    hx= suma**2\n",
    "    i= ((2)**-7)*hx\n",
    "    \n",
    "    return i"
   ]
  },
  {
   "cell_type": "code",
   "execution_count": 46,
   "metadata": {},
   "outputs": [],
   "source": [
    "def integral(M):\n",
    "    suma=0\n",
    "    for i in range(M):\n",
    "        suma += funcion()\n",
    "        \n",
    "    I= suma/M\n",
    "    \n",
    "    return I"
   ]
  },
  {
   "cell_type": "code",
   "execution_count": 47,
   "metadata": {},
   "outputs": [
    {
     "name": "stdout",
     "output_type": "stream",
     "text": [
      "0.1303593967268526 0.13020833333333334\n"
     ]
    }
   ],
   "source": [
    "I= integral(M)\n",
    "print(I, 25/192)"
   ]
  },
  {
   "cell_type": "code",
   "execution_count": null,
   "metadata": {},
   "outputs": [],
   "source": []
  }
 ],
 "metadata": {
  "kernelspec": {
   "display_name": "Python 3",
   "language": "python",
   "name": "python3"
  },
  "language_info": {
   "codemirror_mode": {
    "name": "ipython",
    "version": 3
   },
   "file_extension": ".py",
   "mimetype": "text/x-python",
   "name": "python",
   "nbconvert_exporter": "python",
   "pygments_lexer": "ipython3",
   "version": "3.8.5"
  }
 },
 "nbformat": 4,
 "nbformat_minor": 4
}
